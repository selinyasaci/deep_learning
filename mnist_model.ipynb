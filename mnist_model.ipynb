{
 "cells": [
  {
   "cell_type": "code",
   "execution_count": 1,
   "id": "3c9e19c4",
   "metadata": {},
   "outputs": [],
   "source": [
    "from tensorflow.keras.datasets import mnist"
   ]
  },
  {
   "cell_type": "code",
   "execution_count": 6,
   "id": "d909759b",
   "metadata": {},
   "outputs": [],
   "source": [
    "(train_images, train_labels)=mnist.load_data()[0]\n",
    "(test_images, test_labels)=mnist.load_data()[1]"
   ]
  },
  {
   "cell_type": "code",
   "execution_count": 8,
   "id": "5150d6e3",
   "metadata": {},
   "outputs": [
    {
     "name": "stdout",
     "output_type": "stream",
     "text": [
      "shape of train images: (60000, 28, 28)\n",
      "shape of test images: (10000, 28, 28)\n"
     ]
    }
   ],
   "source": [
    "print(\"shape of train images:\",train_images.shape)\n",
    "print(\"shape of test images:\", test_images.shape)"
   ]
  },
  {
   "cell_type": "code",
   "execution_count": 11,
   "id": "f3c4f5cb",
   "metadata": {},
   "outputs": [],
   "source": [
    "import matplotlib.pyplot as plt"
   ]
  },
  {
   "cell_type": "code",
   "execution_count": 17,
   "id": "75d45ec5",
   "metadata": {
    "scrolled": true
   },
   "outputs": [
    {
     "data": {
      "image/png": "[encoded data removed]",
      "text/plain": [
       "<Figure size 432x288 with 1 Axes>"
      ]
     },
     "metadata": {
      "needs_background": "light"
     },
     "output_type": "display_data"
    }
   ],
   "source": [
    "plt.imshow(train_images[20], cmap=\"gray_r\")\n",
    "plt.show()"
   ]
  },
  {
   "cell_type": "markdown",
   "id": "0b61c56d",
   "metadata": {},
   "source": [
    "# 3D--------> 4D\n",
    "#keras 4 boyutlu verilerle çalıştığından elimizdeki verileri 4 boyutlu yapmamız lazım.\n",
    "#burada shape fonskiyonunn 0. indeksi datasetimizde kaç adet resim olduğunu verir.\n",
    "#1. ve 2. indeksler ise resmin boyutu, 3. indeks ise kaç kanallı olduğunu gösterir."
   ]
  },
  {
   "cell_type": "code",
   "execution_count": 19,
   "id": "d5d1d129",
   "metadata": {},
   "outputs": [
    {
     "name": "stdout",
     "output_type": "stream",
     "text": [
      "shape of train images: (60000, 28, 28, 1)\n",
      "shape of test images: (10000, 28, 28, 1)\n"
     ]
    }
   ],
   "source": [
    "train_images=train_images.reshape(train_images.shape[0],28,28,1)\n",
    "test_images=test_images.reshape(test_images.shape[0],28,28,1)\n",
    "\n",
    "\n",
    "print(\"shape of train images:\",train_images.shape)\n",
    "print(\"shape of test images:\",test_images.shape)"
   ]
  },
  {
   "cell_type": "markdown",
   "id": "1c009cd6",
   "metadata": {},
   "source": [
    "# Normalization:\n",
    "burada resimleri normalize etmemiz gerekiyor. Modeli tanımlamadan önce yapmamız gereken bir basamaktır.\n",
    "normalize etmek için tüm resimleri 255'e bölebiliriz\n",
    "Tüm resimler RGB formatında olduğu için 0-255 arasında değerler alırlar.\n",
    "Normalizasyon işlemi sonucunda resimler 0 ile 1 arasında değerler alırlar."
   ]
  },
  {
   "cell_type": "code",
   "execution_count": 22,
   "id": "8bbee79b",
   "metadata": {},
   "outputs": [],
   "source": [
    "train_images=train_images.astype(\"float32\")\n",
    "test_images=test_images.astype(\"float32\")\n",
    "\n",
    "train_images/=255\n",
    "test_images/=255"
   ]
  },
  {
   "cell_type": "markdown",
   "id": "c993f07c",
   "metadata": {},
   "source": [
    "# Modeli Tanımlama/ Creating Network\n"
   ]
  },
  {
   "cell_type": "code",
   "execution_count": 26,
   "id": "724beb5f",
   "metadata": {},
   "outputs": [],
   "source": [
    "from keras.models import Sequential\n",
    "from keras.layers import Conv2D,Dense,Dropout,Flatten,MaxPooling2D"
   ]
  },
  {
   "cell_type": "code",
   "execution_count": 30,
   "id": "9fa0fbc7",
   "metadata": {},
   "outputs": [],
   "source": [
    "input_shape=(28,28,1)"
   ]
  },
  {
   "cell_type": "code",
   "execution_count": 31,
   "id": "1031fcf3",
   "metadata": {},
   "outputs": [],
   "source": [
    "model=Sequential()"
   ]
  },
  {
   "cell_type": "code",
   "execution_count": 33,
   "id": "6610a535",
   "metadata": {},
   "outputs": [],
   "source": [
    "model.add(Conv2D(28, kernel_size=(3,3), input_shape=input_shape))"
   ]
  },
  {
   "cell_type": "code",
   "execution_count": 34,
   "id": "e9b2c402",
   "metadata": {},
   "outputs": [],
   "source": [
    "model.add(MaxPooling2D(pool_size=(2,2)))"
   ]
  },
  {
   "cell_type": "code",
   "execution_count": 35,
   "id": "9a58e729",
   "metadata": {},
   "outputs": [],
   "source": [
    "model.add(Flatten())"
   ]
  },
  {
   "cell_type": "code",
   "execution_count": 36,
   "id": "5c604bd8",
   "metadata": {},
   "outputs": [],
   "source": [
    "model.add(Dense(128,activation=\"relu\"))"
   ]
  },
  {
   "cell_type": "code",
   "execution_count": 37,
   "id": "3719124e",
   "metadata": {},
   "outputs": [],
   "source": [
    "model.add(Dropout(0.2))"
   ]
  },
  {
   "cell_type": "code",
   "execution_count": 38,
   "id": "514c5f9c",
   "metadata": {},
   "outputs": [],
   "source": [
    "model.add(Dense(10,activation=\"softmax\"))"
   ]
  },
  {
   "cell_type": "markdown",
   "id": "91d9e138",
   "metadata": {},
   "source": [
    "# Compiling Model\n"
   ]
  },
  {
   "cell_type": "code",
   "execution_count": 39,
   "id": "395f1c38",
   "metadata": {},
   "outputs": [
    {
     "name": "stdout",
     "output_type": "stream",
     "text": [
      "Model: \"sequential_1\"\n",
      "_________________________________________________________________\n",
      " Layer (type)                Output Shape              Param #   \n",
      "=================================================================\n",
      " conv2d (Conv2D)             (None, 26, 26, 28)        280       \n",
      "                                                                 \n",
      " max_pooling2d (MaxPooling2D  (None, 13, 13, 28)       0         \n",
      " )                                                               \n",
      "                                                                 \n",
      " flatten (Flatten)           (None, 4732)              0         \n",
      "                                                                 \n",
      " dense (Dense)               (None, 128)               605824    \n",
      "                                                                 \n",
      " dropout (Dropout)           (None, 128)               0         \n",
      "                                                                 \n",
      " dense_1 (Dense)             (None, 10)                1290      \n",
      "                                                                 \n",
      "=================================================================\n",
      "Total params: 607,394\n",
      "Trainable params: 607,394\n",
      "Non-trainable params: 0\n",
      "_________________________________________________________________\n"
     ]
    }
   ],
   "source": [
    "model.compile(optimizer=\"adam\",\n",
    "             loss=\"sparse_categorical_crossentropy\",\n",
    "             metrics=[\"accuracy\"])\n",
    "\n",
    "model.summary()"
   ]
  },
  {
   "cell_type": "markdown",
   "id": "a0024917",
   "metadata": {},
   "source": [
    "# Fitting Model/ Trained Model"
   ]
  },
  {
   "cell_type": "code",
   "execution_count": 41,
   "id": "e2276d8a",
   "metadata": {},
   "outputs": [
    {
     "name": "stdout",
     "output_type": "stream",
     "text": [
      "Epoch 1/10\n",
      "1875/1875 [==============================] - 31s 16ms/step - loss: 0.5655 - accuracy: 0.8303\n",
      "Epoch 2/10\n",
      "1875/1875 [==============================] - 23s 12ms/step - loss: 0.2215 - accuracy: 0.9341\n",
      "Epoch 3/10\n",
      "1875/1875 [==============================] - 22s 12ms/step - loss: 0.1599 - accuracy: 0.9517\n",
      "Epoch 4/10\n",
      "1875/1875 [==============================] - 21s 11ms/step - loss: 0.1332 - accuracy: 0.9603\n",
      "Epoch 5/10\n",
      "1875/1875 [==============================] - 21s 11ms/step - loss: 0.1146 - accuracy: 0.9656\n",
      "Epoch 6/10\n",
      "1875/1875 [==============================] - 21s 11ms/step - loss: 0.1023 - accuracy: 0.9682\n",
      "Epoch 7/10\n",
      "1875/1875 [==============================] - 21s 11ms/step - loss: 0.0929 - accuracy: 0.9713\n",
      "Epoch 8/10\n",
      "1875/1875 [==============================] - 21s 11ms/step - loss: 0.0866 - accuracy: 0.9733\n",
      "Epoch 9/10\n",
      "1875/1875 [==============================] - 21s 11ms/step - loss: 0.0804 - accuracy: 0.9748\n",
      "Epoch 10/10\n",
      "1875/1875 [==============================] - 21s 11ms/step - loss: 0.0760 - accuracy: 0.9761\n"
     ]
    }
   ],
   "source": [
    "history=model.fit(x=train_images,\n",
    "                 y=train_labels,\n",
    "                 epochs=10)"
   ]
  },
  {
   "cell_type": "markdown",
   "id": "91f5c2e5",
   "metadata": {},
   "source": [
    "# Evaluating Model\n"
   ]
  },
  {
   "cell_type": "code",
   "execution_count": 42,
   "id": "9f6b9578",
   "metadata": {},
   "outputs": [
    {
     "name": "stdout",
     "output_type": "stream",
     "text": [
      "313/313 [==============================] - 3s 10ms/step - loss: 10.9686 - accuracy: 0.9779\n",
      "Test loss: 10.968647956848145\n",
      "Test labels: [7 2 1 ... 4 5 6]\n"
     ]
    }
   ],
   "source": [
    "test_loss,test_accuracy=model.evaluate(test_images,test_labels)\n",
    "print(\"Test loss:\",test_loss)\n",
    "print(\"Test labels:\",test_labels)"
   ]
  },
  {
   "cell_type": "markdown",
   "id": "1d09abc4",
   "metadata": {},
   "source": [
    "# Modeli Görselleştirme/ losss accuracy graph"
   ]
  },
  {
   "cell_type": "code",
   "execution_count": 45,
   "id": "9284004c",
   "metadata": {},
   "outputs": [
    {
     "name": "stdout",
     "output_type": "stream",
     "text": [
      "Keys: dict_keys(['loss', 'accuracy'])\n"
     ]
    }
   ],
   "source": [
    "history_dict=history.history\n",
    "print(\"Keys:\",history_dict.keys())"
   ]
  },
  {
   "cell_type": "code",
   "execution_count": 51,
   "id": "13c1ec37",
   "metadata": {},
   "outputs": [
    {
     "data": {
      "image/png": "[encoded data removed]",
      "text/plain": [
       "<Figure size 432x288 with 1 Axes>"
      ]
     },
     "metadata": {
      "needs_background": "light"
     },
     "output_type": "display_data"
    },
    {
     "data": {
      "image/png": "[encoded data removed]",
      "text/plain": [
       "<Figure size 432x288 with 1 Axes>"
      ]
     },
     "metadata": {
      "needs_background": "light"
     },
     "output_type": "display_data"
    }
   ],
   "source": [
    "import matplotlib.pyplot as plt\n",
    "\n",
    "epochs=range(1,11)\n",
    "\n",
    "loss=history_dict[\"loss\"]\n",
    "\n",
    "accuracy=history_dict[\"accuracy\"]\n",
    "\n",
    "plt.plot(epochs, loss)\n",
    "\n",
    "plt.title(\"loss and epochs\")\n",
    "\n",
    "plt.show()\n",
    "\n",
    "plt.plot(epochs, accuracy)\n",
    "\n",
    "plt.title(\"accuracy and epochs\")\n",
    "\n",
    "plt.show()"
   ]
  },
  {
   "cell_type": "markdown",
   "id": "ee407948",
   "metadata": {},
   "source": [
    "# saving model\n",
    "\n"
   ]
  },
  {
   "cell_type": "code",
   "execution_count": 52,
   "id": "b2a167f7",
   "metadata": {},
   "outputs": [],
   "source": [
    "model.save(\"mnist_model.h5\")"
   ]
  },
  {
   "cell_type": "markdown",
   "id": "3ea0a612",
   "metadata": {},
   "source": [
    "# Loading Model and Prediction"
   ]
  },
  {
   "cell_type": "code",
   "execution_count": 57,
   "id": "5d323a7b",
   "metadata": {},
   "outputs": [],
   "source": [
    "from keras.models import load_model\n",
    "import random"
   ]
  },
  {
   "cell_type": "code",
   "execution_count": 58,
   "id": "399df9f4",
   "metadata": {},
   "outputs": [],
   "source": [
    "model=load_model(\"mnist_model.h5\")"
   ]
  },
  {
   "cell_type": "code",
   "execution_count": 65,
   "id": "8278bc50",
   "metadata": {},
   "outputs": [
    {
     "name": "stdout",
     "output_type": "stream",
     "text": [
      "1/1 [==============================] - 0s 41ms/step\n",
      "predicted number: 3\n"
     ]
    },
    {
     "data": {
      "image/png": "[encoded data removed]",
      "text/plain": [
       "<Figure size 432x288 with 1 Axes>"
      ]
     },
     "metadata": {
      "needs_background": "light"
     },
     "output_type": "display_data"
    }
   ],
   "source": [
    "i=random.randint(1,500)\n",
    "prediction=model.predict(test_images[i].reshape(1,28,28,1))\n",
    "print(\"predicted number:\",prediction.argmax())\n",
    "\n",
    "plt.imshow(test_images[i].reshape(28,28),cmap=\"gray_r\")\n",
    "plt.show()\n",
    "\n"
   ]
  },
  {
   "cell_type": "code",
   "execution_count": null,
   "id": "354574d0",
   "metadata": {},
   "outputs": [],
   "source": []
  },
  {
   "cell_type": "code",
   "execution_count": null,
   "id": "4577e3c6",
   "metadata": {},
   "outputs": [],
   "source": []
  }
 ],
 "metadata": {
  "kernelspec": {
   "display_name": "Python 3 (ipykernel)",
   "language": "python",
   "name": "python3"
  },
  "language_info": {
   "codemirror_mode": {
    "name": "ipython",
    "version": 3
   },
   "file_extension": ".py",
   "mimetype": "text/x-python",
   "name": "python",
   "nbconvert_exporter": "python",
   "pygments_lexer": "ipython3",
   "version": "3.9.7"
  }
 },
 "nbformat": 4,
 "nbformat_minor": 5
}
